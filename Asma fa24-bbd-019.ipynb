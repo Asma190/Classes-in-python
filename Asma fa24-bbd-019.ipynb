{
 "cells": [
  {
   "cell_type": "code",
   "execution_count": 28,
   "id": "62013fe5",
   "metadata": {},
   "outputs": [
    {
     "name": "stdout",
     "output_type": "stream",
     "text": [
      "Asma\n",
      "Asma says hello!\n"
     ]
    }
   ],
   "source": [
    "#question1\n",
    "class Person:\n",
    "    def __init__(self, name, age, city):\n",
    "        self.name = name\n",
    "        self.age = age\n",
    "        self.city = city\n",
    "\n",
    "    def hello(self):\n",
    "        print(f\"{self.name} says hello!\")\n",
    "\n",
    "# Creating an object of the Person class\n",
    "my_self = Person(\"Asma\", 18, \"Lahore\")\n",
    "print(my_self.name)  \n",
    "my_self.hello()  "
   ]
  },
  {
   "cell_type": "code",
   "execution_count": 32,
   "id": "a18329cd",
   "metadata": {},
   "outputs": [
    {
     "name": "stdout",
     "output_type": "stream",
     "text": [
      "city\n",
      "car make:honda\n",
      "car model:city\n",
      "car year:2016\n"
     ]
    }
   ],
   "source": [
    "#question2\n",
    "class car:\n",
    "    def __init__(self, make, model, year):\n",
    "        self.make=make\n",
    "        self.model=model\n",
    "        self.year=year\n",
    "\n",
    "    def info(self):\n",
    "         print(f\"car make:{self.make}\")\n",
    "         print(f\"car model:{self.model}\")\n",
    "         print(f\"car year:{self.year}\")\n",
    "# Creating an object of the car class\n",
    "my_car= car(\"honda\",\"city\", \"2016\")\n",
    "print(my_car.model)  \n",
    "my_car.info()  "
   ]
  },
  {
   "cell_type": "code",
   "execution_count": 34,
   "id": "901fed79",
   "metadata": {},
   "outputs": [
    {
     "name": "stdout",
     "output_type": "stream",
     "text": [
      "Area: 113.09733552923255\n",
      "Circumference: 37.69911184307752\n"
     ]
    }
   ],
   "source": [
    "#question3\n",
    "import math\n",
    "\n",
    "class Circle:\n",
    "    def __init__(self, radius):\n",
    "        self.radius = radius\n",
    "    def area(self):\n",
    "        return math.pi * (self.radius ** 2)\n",
    "    def circumference(self):\n",
    "        return 2 * math.pi * self.radius\n",
    "\n",
    "# Creating an object of the Circle class\n",
    "my_circle = Circle(6)\n",
    "print(f\"Area: {my_circle.area()}\")\n",
    "print(f\"Circumference: {my_circle.circumference()}\")\n"
   ]
  },
  {
   "cell_type": "code",
   "execution_count": 41,
   "id": "87156387",
   "metadata": {},
   "outputs": [
    {
     "name": "stdout",
     "output_type": "stream",
     "text": [
      "Area: 100\n",
      "Perimeter: 40\n"
     ]
    }
   ],
   "source": [
    "#question4\n",
    "class rectangle:\n",
    "    def __init__(self, length, width):\n",
    "        self.length = length\n",
    "        self.width = width\n",
    "    def area(self):\n",
    "        return self.length * self.width\n",
    "    def perimeter(self):\n",
    "        return 2 * (self.length + self.width)\n",
    "#creating an object of class rectangle\n",
    "my_rectangle= rectangle (10,10)\n",
    "print(f\"Area: {my_rectangle.area()}\") \n",
    "print(f\"Perimeter: {my_rectangle.perimeter()}\")\n",
    "\n",
    "  "
   ]
  },
  {
   "cell_type": "code",
   "execution_count": 47,
   "id": "d1386fe2",
   "metadata": {},
   "outputs": [
    {
     "name": "stdout",
     "output_type": "stream",
     "text": [
      "Average Marks of asma: 83.0\n"
     ]
    }
   ],
   "source": [
    "#question5\n",
    "class Student:\n",
    "    def __init__(self, name, roll_number, marks):\n",
    "        self.name = name\n",
    "        self.roll_number = roll_number\n",
    "        self.marks = marks  \n",
    "\n",
    "    def average_marks(self):\n",
    "        if len(self.marks) > 0:\n",
    "            return sum(self.marks) / len(self.marks)\n",
    "        else:\n",
    "            return 0  \n",
    "\n",
    "# Creating an object of the Student class\n",
    "student1 = Student(\"asma\", 19, [85, 90, 78, 92,70])\n",
    "print(f\"Average Marks of {student1.name}: {student1.average_marks()}\")"
   ]
  },
  {
   "cell_type": "code",
   "execution_count": 48,
   "id": "24441a31",
   "metadata": {},
   "outputs": [
    {
     "name": "stdout",
     "output_type": "stream",
     "text": [
      "Title: Harry Potter and the Sorcerer's Stone\n",
      "Author: J.K. Rowling\n",
      "Publication Year: 1997\n"
     ]
    }
   ],
   "source": [
    "#question6\n",
    "class Book:\n",
    "    def __init__(self, title, author, publication_year):\n",
    "        self.title = title\n",
    "        self.author = author\n",
    "        self.publication_year = publication_year\n",
    "\n",
    "    def display_info(self):\n",
    "        print(f\"Title: {self.title}\")\n",
    "        print(f\"Author: {self.author}\")\n",
    "        print(f\"Publication Year: {self.publication_year}\")\n",
    "\n",
    "# Creating an object of the Book class for Harry Potter\n",
    "harry_potter = Book(\"Harry Potter and the Sorcerer's Stone\", \"J.K. Rowling\", 1997)\n",
    "harry_potter.display_info()"
   ]
  },
  {
   "cell_type": "code",
   "execution_count": 50,
   "id": "c82f36b6",
   "metadata": {},
   "outputs": [
    {
     "name": "stdout",
     "output_type": "stream",
     "text": [
      "Name: asma\n",
      "Salary: 500000\n",
      "Designation: data analyst\n"
     ]
    }
   ],
   "source": [
    "#question7\n",
    "class Employee:\n",
    "    def __init__(self, name, salary, designation):\n",
    "        self.name = name\n",
    "        self.salary = salary\n",
    "        self.designation = designation\n",
    "\n",
    "    def display_info(self):\n",
    "        print(f\"Name: {self.name}\")\n",
    "        print(f\"Salary: {self.salary}\")\n",
    "        print(f\"Designation: {self.designation}\")\n",
    "\n",
    "# Creating an object of the Employee class\n",
    "employee1 = Employee(\"asma\", 500000, \"data analyst\")\n",
    "employee1.display_info()"
   ]
  },
  {
   "cell_type": "code",
   "execution_count": 51,
   "id": "f483d328",
   "metadata": {},
   "outputs": [
    {
     "name": "stdout",
     "output_type": "stream",
     "text": [
      "Account Holder: asma\n",
      "Account Number: 145638790\n",
      "Balance: 9000000\n",
      "2000 deposited successfully. New balance: 9002000\n",
      "3000 withdrawn successfully. New balance: 8999000\n",
      "Account Holder: asma\n",
      "Account Number: 145638790\n",
      "Balance: 8999000\n"
     ]
    }
   ],
   "source": [
    "#question8\n",
    "class Bank:\n",
    "    def __init__(self, name, account_number, balance=0):\n",
    "        self.name = name\n",
    "        self.account_number = account_number\n",
    "        self.balance = balance\n",
    "\n",
    "    def deposit(self, amount):\n",
    "        if amount > 0:\n",
    "            self.balance += amount\n",
    "            print(f\"{amount} deposited successfully. New balance: {self.balance}\")\n",
    "        else:\n",
    "            print(\"Deposit amount must be greater than zero.\")\n",
    "\n",
    "    def withdraw(self, amount):\n",
    "        if amount > 0 and amount <= self.balance:\n",
    "            self.balance -= amount\n",
    "            print(f\"{amount} withdrawn successfully. New balance: {self.balance}\")\n",
    "        elif amount > self.balance:\n",
    "            print(\"Insufficient balance.\")\n",
    "        else:\n",
    "            print(\"Withdrawal amount must be greater than zero.\")\n",
    "\n",
    "    def display_info(self):\n",
    "        print(f\"Account Holder: {self.name}\")\n",
    "        print(f\"Account Number: {self.account_number}\")\n",
    "        print(f\"Balance: {self.balance}\")\n",
    "\n",
    "\n",
    "# Creating an object of the Bank class\n",
    "account1 = Bank(\"asma\", \"145638790\", 9000000)\n",
    "account1.display_info()\n",
    "account1.deposit(2000)\n",
    "account1.withdraw(3000)\n",
    "account1.display_info()\n"
   ]
  },
  {
   "cell_type": "code",
   "execution_count": null,
   "id": "bfb6e15a",
   "metadata": {},
   "outputs": [],
   "source": []
  }
 ],
 "metadata": {
  "kernelspec": {
   "display_name": "Python 3 (ipykernel)",
   "language": "python",
   "name": "python3"
  },
  "language_info": {
   "codemirror_mode": {
    "name": "ipython",
    "version": 3
   },
   "file_extension": ".py",
   "mimetype": "text/x-python",
   "name": "python",
   "nbconvert_exporter": "python",
   "pygments_lexer": "ipython3",
   "version": "3.11.5"
  }
 },
 "nbformat": 4,
 "nbformat_minor": 5
}
